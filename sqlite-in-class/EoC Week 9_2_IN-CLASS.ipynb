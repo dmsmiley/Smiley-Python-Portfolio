{
 "cells": [
  {
   "cell_type": "markdown",
   "metadata": {},
   "source": [
    "# More SQL with SQLite in Python\n",
    "\n",
    "**Note:** Ensure the `sakila.db` file is in your working directory before running the notebook."
   ]
  },
  {
   "cell_type": "code",
   "execution_count": 3,
   "metadata": {},
   "outputs": [
    {
     "name": "stdout",
     "output_type": "stream",
     "text": [
      "Connected to SQLite Sakila database!\n"
     ]
    }
   ],
   "source": [
    "import sqlite3\n",
    "import pandas as pd\n",
    "\n",
    "# Set the path to the SQLite database\n",
    "db_path = \"sakila.db\"\n",
    "\n",
    "# Connect to SQLite database\n",
    "conn = sqlite3.connect(db_path)\n",
    "print(\"Connected to SQLite Sakila database!\")"
   ]
  },
  {
   "cell_type": "markdown",
   "metadata": {},
   "source": [
    "### Exploring the Database Schema\n",
    "\n",
    "Before diving into queries, it's useful to know which tables are available in the Sakila database. We'll list all tables by querying the SQLite master table."
   ]
  },
  {
   "cell_type": "code",
   "execution_count": 4,
   "metadata": {},
   "outputs": [
    {
     "name": "stdout",
     "output_type": "stream",
     "text": [
      "Tables in the database:\n",
      "               name\n",
      "0             actor\n",
      "1           country\n",
      "2              city\n",
      "3           address\n",
      "4          language\n",
      "5          category\n",
      "6          customer\n",
      "7              film\n",
      "8        film_actor\n",
      "9     film_category\n",
      "10        film_text\n",
      "11        inventory\n",
      "12            staff\n",
      "13            store\n",
      "14          payment\n",
      "15           rental\n",
      "16        customers\n",
      "17  sqlite_sequence\n",
      "18       test_table\n"
     ]
    }
   ],
   "source": [
    "# List all tables in the database\n",
    "tables = pd.read_sql(\"\"\"SELECT name \n",
    "                        FROM sqlite_master \n",
    "                        WHERE type='table';\"\"\", conn)\n",
    "\n",
    "print(\"Tables in the database:\")\n",
    "print(tables)"
   ]
  },
  {
   "cell_type": "markdown",
   "metadata": {},
   "source": [
    "## Part 1. Other Operations\n",
    "These operations help you filter numeric data and handle potential NULLs. We’ll use the film table as an example:"
   ]
  },
  {
   "cell_type": "markdown",
   "metadata": {},
   "source": [
    "### BETWEEN Operator\n",
    "Select films where the film length is within a specified range."
   ]
  },
  {
   "cell_type": "code",
   "execution_count": 9,
   "metadata": {},
   "outputs": [
    {
     "name": "stdout",
     "output_type": "stream",
     "text": [
      "Select films between 80 and 120 minutes:\n",
      "                     title  length\n",
      "0    FLAMINGOS CONNECTICUT      80\n",
      "1            GARDEN ISLAND      80\n",
      "2            LOSER HUSTLER      80\n",
      "3           MEET CHOCOLATE      80\n",
      "4             PEAK FOREVER      80\n",
      "..                     ...     ...\n",
      "295            KARATE MOON     120\n",
      "296              LOCK REAR     120\n",
      "297         ORDER BETRAYED     120\n",
      "298             RAGE GAMES     120\n",
      "299   UNTOUCHABLES SUNRISE     120\n",
      "\n",
      "[300 rows x 2 columns]\n"
     ]
    }
   ],
   "source": [
    "# Define SQL query to fetch the first 5 rows from the actor table.\n",
    "query_between = \"\"\"SELECT title, length\n",
    "                   FROM film\n",
    "                   WHERE length BETWEEN 80 AND 120\n",
    "                   ORDER BY length\n",
    "                \"\"\"\n",
    "\n",
    "# Execute the query using pd.read_sql.\n",
    "df_between = pd.read_sql(query_between, conn)\n",
    "\n",
    "print(\"Select films between 80 and 120 minutes:\")\n",
    "print(df_between)"
   ]
  },
  {
   "cell_type": "markdown",
   "metadata": {},
   "source": [
    "### IS NOT NULL Operator\n",
    "Ensure that you only fetch rows with actual (non-null) values."
   ]
  },
  {
   "cell_type": "code",
   "execution_count": 15,
   "metadata": {},
   "outputs": [
    {
     "name": "stdout",
     "output_type": "stream",
     "text": [
      "Drop rows without descriptions:\n",
      "                 title                                        description\n",
      "0     ACADEMY DINOSAUR  A Epic Drama of a Feminist And a Mad Scientist...\n",
      "1       ACE GOLDFINGER  A Astounding Epistle of a Database Administrat...\n",
      "2     ADAPTATION HOLES  A Astounding Reflection of a Lumberjack And a ...\n",
      "3     AFFAIR PREJUDICE  A Fanciful Documentary of a Frisbee And a Lumb...\n",
      "4          AFRICAN EGG  A Fast-Paced Documentary of a Pastry Chef And ...\n",
      "..                 ...                                                ...\n",
      "995     YOUNG LANGUAGE  A Unbelieveable Yarn of a Boat And a Database ...\n",
      "996         YOUTH KICK  A Touching Drama of a Teacher And a Cat who mu...\n",
      "997       ZHIVAGO CORE  A Fateful Yarn of a Composer And a Man who mus...\n",
      "998  ZOOLANDER FICTION  A Fateful Reflection of a Waitress And a Boat ...\n",
      "999          ZORRO ARK  A Intrepid Panorama of a Mad Scientist And a B...\n",
      "\n",
      "[1000 rows x 2 columns]\n"
     ]
    }
   ],
   "source": [
    "# Define SQL query to fetch the first 5 rows from the actor table.\n",
    "query_nonnull = \"\"\"SELECT title, description\n",
    "                   FROM film\n",
    "                   WHERE description IS NOT NULL;\n",
    "                \"\"\"\n",
    "\n",
    "# Execute the query using pd.read_sql.\n",
    "df_nonnull = pd.read_sql(query_nonnull, conn)\n",
    "\n",
    "print(\"Drop rows without descriptions:\")\n",
    "print(df_nonnull)"
   ]
  },
  {
   "cell_type": "markdown",
   "metadata": {},
   "source": [
    "### IN Operator\n",
    "Filter rows by matching a column against a list of values."
   ]
  },
  {
   "cell_type": "code",
   "execution_count": 20,
   "metadata": {},
   "outputs": [
    {
     "name": "stdout",
     "output_type": "stream",
     "text": [
      "Query of distint count of actors per title and G and PG rated films:\n",
      "    rating                title  actor_count\n",
      "0        G          CHITTY LOCK           13\n",
      "1        G      DRACULA CRYSTAL           13\n",
      "2       PG           CRAZY HOME           13\n",
      "3        G      LONELY ELEPHANT           12\n",
      "4       PG  HELLFIGHTERS SIERRA           12\n",
      "..     ...                  ...          ...\n",
      "366      G           STONE FIRE            1\n",
      "367     PG        FERRIS MOTHER            1\n",
      "368     PG           MOON BUNCH            1\n",
      "369     PG      MUSKETEERS WAIT            1\n",
      "370     PG      PIRATES ROXANNE            1\n",
      "\n",
      "[371 rows x 3 columns]\n"
     ]
    }
   ],
   "source": [
    "# Define SQL query to fetch the first 5 rows from the actor table.\n",
    "query_rating = \"\"\"SELECT f.rating, f.title, COUNT(DISTINCT fa.actor_id) AS actor_count\n",
    "                  FROM film AS f\n",
    "                  JOIN film_actor AS fa ON f.film_id = fa.film_id\n",
    "                  WHERE f.rating IN (\"G\", \"PG\")\n",
    "                  GROUP BY f.rating, f.title\n",
    "                  ORDER BY actor_count DESC;\n",
    "               \"\"\"\n",
    "\n",
    "# Execute the query using pd.read_sql.\n",
    "df_rating = pd.read_sql(query_rating, conn)\n",
    "\n",
    "print(\"Query of distint count of actors per title and G and PG rated films:\")\n",
    "print(df_rating)"
   ]
  },
  {
   "cell_type": "markdown",
   "metadata": {},
   "source": [
    "## Part 2. Text Operations\n",
    "Use the LIKE operator with wildcards to match text patterns—again, using the `film` table:\n",
    "\n",
    "Using Wildcards with LIKE:\n",
    "\n",
    "- `%` matches zero or more characters.\n",
    "- `_` matches exactly one character."
   ]
  },
  {
   "cell_type": "code",
   "execution_count": 25,
   "metadata": {},
   "outputs": [
    {
     "name": "stdout",
     "output_type": "stream",
     "text": [
      "Query films that either start with A or end with s:\n",
      "                    title\n",
      "0        ACADEMY DINOSAUR\n",
      "1          ACE GOLDFINGER\n",
      "2        ADAPTATION HOLES\n",
      "3        AFFAIR PREJUDICE\n",
      "4             AFRICAN EGG\n",
      "..                    ...\n",
      "179             WAKE JAWS\n",
      "180             WON DARES\n",
      "181  WONDERLAND CHRISTMAS\n",
      "182   WORKING MICROCOSMOS\n",
      "183    WORLD LEATHERNECKS\n",
      "\n",
      "[184 rows x 1 columns]\n"
     ]
    }
   ],
   "source": [
    "query_wildcard1 = \"\"\"SELECT title\n",
    "                     FROM film\n",
    "                     WHERE title LIKE 'a%' OR title LIKE '%s'\n",
    "                  \"\"\"\n",
    "\n",
    "# Execute the query using pd.read_sql.\n",
    "df_wc1 = pd.read_sql(query_wildcard1, conn)\n",
    "\n",
    "print(\"Query films that either start with A or end with s:\")\n",
    "print(df_wc1)"
   ]
  },
  {
   "cell_type": "code",
   "execution_count": 26,
   "metadata": {},
   "outputs": [
    {
     "name": "stdout",
     "output_type": "stream",
     "text": [
      "Query films where the second letter is 'a':\n",
      "                      title\n",
      "0                 BABY HALL\n",
      "1       BACKLASH UNDEFEATED\n",
      "2               BADMAN DAWN\n",
      "3           BAKED CLEOPATRA\n",
      "4          BALLOON HOMEWARD\n",
      "..                      ...\n",
      "184           WASH HEAVENLY\n",
      "185        WASTELAND DIVINE\n",
      "186             WATCH TRACY\n",
      "187  WATERFRONT DELIVERANCE\n",
      "188      WATERSHIP FRONTIER\n",
      "\n",
      "[189 rows x 1 columns]\n"
     ]
    }
   ],
   "source": [
    "query_wildcard2 = \"\"\"SELECT title\n",
    "                     FROM film\n",
    "                     WHERE title LIKE '_a%'\n",
    "                  \"\"\"\n",
    "\n",
    "# Execute the query using pd.read_sql.\n",
    "df_wc2 = pd.read_sql(query_wildcard2, conn)\n",
    "\n",
    "print(\"Query films where the second letter is 'a':\")\n",
    "print(df_wc2)"
   ]
  },
  {
   "cell_type": "markdown",
   "metadata": {},
   "source": [
    "# Group Exercises\n",
    "- Find a neighbor, yes, move around and make a new friend!\n",
    "- Work through the following practice exercises together."
   ]
  },
  {
   "cell_type": "markdown",
   "metadata": {},
   "source": [
    "# Partner Practice Exercise\n",
    "\n",
    "Now that we've seen several examples of JOINs and aggregation queries, it's time for you to practice with a partner. Complete the following tasks using the Sakila database:\n",
    "\n",
    "1. **Challenge 1: Short Films with Language**\n",
    "   - Write a query that returns each film’s title, description, and language name (labeled as “language”) from the `film` and `language` tables, for all films with length under 100. Join `film.language_id` to `language.language_id` to retrieve the language name.\n",
    "\n",
    "2. **Challenge 2: Specific Ratings Filter with Language**\n",
    "   - Write a query to display each film’s title, rating, and language name (as “language”) for all films whose rating is either ‘PG-13’ or ‘R.’ Join film.language_id to language.language_id.\n",
    "\n",
    "3. **Challenge 3: Pattern Matching on Film Titles with Category**\n",
    "   - Write a query to list each film’s title and its category name (as “category”) for all films whose title begins with “T” or ends with “s.” Join film to film_category and then to category to retrieve the category name.\n",
    "\n",
    "4. **Challenge 4: Single-Character Wildcard with Actor Join**\n",
    "   - Write a query that lists each film’s title and the actor’s full name (using first_name || ' ' || last_name) for all films whose title has “y” as the second character. Join film, film_actor, and actor on their respective IDs.\n",
    "\n",
    "5. **Challenge 5: Distinct Customer Payments and Rentals**\n",
    "   - Write a query to display each customer’s ID along with the total number of distinct payments and rentals they have made. Use LEFT JOIN with the payment and rental tables, group by the customer, and order by total payments (descending) then total rentals (descending).\n",
    "\n",
    "6. **Challenge 6: Advanced Filtering with Category**\n",
    "   - Write a query that returns each film’s title, rental rate, length, and category (labeled as “category”) for films whose rental rate is between 2.99 and 4.99, rating is either ‘PG’ or ‘R,’ and title starts with “A.” Join film to film_category and category to retrieve the category name.\n",
    "         - HINT: USE `AND` as a dependent clause of your `WHERE` clause to create multiple conditions.\n",
    "         \n",
    "Discuss your approaches with your partner, compare your results, and be ready to review a few solutions as a class."
   ]
  },
  {
   "cell_type": "code",
   "execution_count": null,
   "metadata": {},
   "outputs": [
    {
     "name": "stdout",
     "output_type": "stream",
     "text": [
      "Challenge 1\n",
      "                   title                                        description  \\\n",
      "0       ACADEMY DINOSAUR  A Epic Drama of a Feminist And a Mad Scientist...   \n",
      "1         ACE GOLDFINGER  A Astounding Epistle of a Database Administrat...   \n",
      "2       ADAPTATION HOLES  A Astounding Reflection of a Lumberjack And a ...   \n",
      "3        AIRPLANE SIERRA  A Touching Saga of a Hunter And a Butler who m...   \n",
      "4        AIRPORT POLLOCK  A Epic Tale of a Moose And a Girl who must Con...   \n",
      "..                   ...                                                ...   \n",
      "373        WOLVES DESIRE  A Fast-Paced Drama of a Squirrel And a Robot w...   \n",
      "374            WONKA SEA  A Brilliant Saga of a Boat And a Mad Scientist...   \n",
      "375  WORKING MICROCOSMOS  A Stunning Epistle of a Dentist And a Dog who ...   \n",
      "376          YENTL IDAHO  A Amazing Display of a Robot And a Astronaut w...   \n",
      "377            ZORRO ARK  A Intrepid Panorama of a Mad Scientist And a B...   \n",
      "\n",
      "    language  \n",
      "0    English  \n",
      "1    English  \n",
      "2    English  \n",
      "3    English  \n",
      "4    English  \n",
      "..       ...  \n",
      "373  English  \n",
      "374  English  \n",
      "375  English  \n",
      "376  English  \n",
      "377  English  \n",
      "\n",
      "[378 rows x 3 columns]\n"
     ]
    }
   ],
   "source": [
    "query_chal1 = \"\"\"SELECT f.title, f.description, l.name AS language\n",
    "                 FROM film f\n",
    "                 JOIN language AS l ON f.language_id = l.language_id\n",
    "                 WHERE f.length < 100;\n",
    "              \"\"\"\n",
    "\n",
    "# Execute the query using pd.read_sql.\n",
    "df_chal1 = pd.read_sql(query_chal1, conn)\n",
    "\n",
    "print(\"Challenge 1\")\n",
    "print(df_chal1)"
   ]
  },
  {
   "cell_type": "code",
   "execution_count": 29,
   "metadata": {},
   "outputs": [
    {
     "name": "stdout",
     "output_type": "stream",
     "text": [
      "Challenge 2\n",
      "                  title rating language\n",
      "0       AIRPLANE SIERRA  PG-13  English\n",
      "1       AIRPORT POLLOCK      R  English\n",
      "2         ALABAMA DEVIL  PG-13  English\n",
      "3            ALONE TRIP      R  English\n",
      "4         ALTER VICTORY  PG-13  English\n",
      "..                  ...    ...      ...\n",
      "413  WORLD LEATHERNECKS  PG-13  English\n",
      "414      WRONG BEHAVIOR  PG-13  English\n",
      "415       WYOMING STORM  PG-13  English\n",
      "416         YENTL IDAHO      R  English\n",
      "417   ZOOLANDER FICTION      R  English\n",
      "\n",
      "[418 rows x 3 columns]\n"
     ]
    }
   ],
   "source": [
    "query_chal2 = \"\"\" SELECT f.title, f.rating, l.name AS language\n",
    "                FROM film AS f\n",
    "                JOIN language AS l\n",
    "                ON f.language_id = l.language_id\n",
    "                WHERE f.rating IN ('PG-13', 'R')\n",
    "              \"\"\"\n",
    "\n",
    "# Execute the query using pd.read_sql.\n",
    "df_chal2 = pd.read_sql(query_chal2, conn)\n",
    "\n",
    "print(\"Challenge 2\")\n",
    "print(df_chal2)"
   ]
  },
  {
   "cell_type": "code",
   "execution_count": 33,
   "metadata": {},
   "outputs": [
    {
     "name": "stdout",
     "output_type": "stream",
     "text": [
      "Challenge 3\n",
      "                     title   category\n",
      "0   TELEMARK HEARTBREAKERS  Animation\n",
      "1    TOMATOES HELLFIGHTERS     Travel\n",
      "2  TRAINSPOTTING STRANGERS     Comedy\n",
      "3             TRAMP OTHERS     Comedy\n",
      "4                TRAP GUYS    Foreign\n",
      "5          TWISTED PIRATES   Children\n"
     ]
    }
   ],
   "source": [
    "query_chal3 = \"\"\"SELECT f.title, c.name AS category\n",
    "                FROM film f\n",
    "                JOIN film_category fc ON f.film_id = fc.film_id\n",
    "                JOIN category c ON fc.category_id = c.category_id\n",
    "                WHERE f.title LIKE 'T%' AND f.title LIKE '%s';\n",
    "              \"\"\"\n",
    "\n",
    "# Execute the query using pd.read_sql.\n",
    "df_chal3 = pd.read_sql(query_chal3, conn)\n",
    "\n",
    "print(\"Challenge 3\")\n",
    "print(df_chal3)"
   ]
  },
  {
   "cell_type": "code",
   "execution_count": 39,
   "metadata": {},
   "outputs": [
    {
     "name": "stdout",
     "output_type": "stream",
     "text": [
      "Challenge 4\n",
      "                  title        actor_name\n",
      "0            LADY STAGE  PENELOPE GUINESS\n",
      "1             BABY HALL     NICK WAHLBERG\n",
      "2        JEKYLL FROGMEN     NICK WAHLBERG\n",
      "3      ARMY FLINTSTONES          ED CHASE\n",
      "4            IGBY MAKER   BETTE NICHOLSON\n",
      "..                  ...               ...\n",
      "57           LADY STAGE  JEFF SILVERSTONE\n",
      "58     ARMY FLINTSTONES    MATTHEW CARREY\n",
      "59  LADYBUGS ARMAGEDDON    MATTHEW CARREY\n",
      "60     ARMY FLINTSTONES     RUSSELL CLOSE\n",
      "61           LADY STAGE      ROCK DUKAKIS\n",
      "\n",
      "[62 rows x 2 columns]\n"
     ]
    }
   ],
   "source": [
    "query_chal4 = \"\"\"SELECT f.title, a.first_name || ' '|| a.last_name AS actor_name\n",
    "                FROM film AS f\n",
    "                JOIN film_actor AS fa ON f.film_id = fa.film_id\n",
    "                JOIN actor AS a ON fa.actor_id = a.actor_id\n",
    "                WHERE f.title LIKE '___y%'\n",
    "         \n",
    "              \"\"\"\n",
    "\n",
    "# Execute the query using pd.read_sql.\n",
    "df_chal4 = pd.read_sql(query_chal4, conn)\n",
    "\n",
    "print(\"Challenge 4\")\n",
    "print(df_chal4)"
   ]
  },
  {
   "cell_type": "code",
   "execution_count": null,
   "metadata": {},
   "outputs": [],
   "source": [
    "query_chal5 = \"\"\"\n",
    "            \n",
    "              \"\"\"\n",
    "\n",
    "# Execute the query using pd.read_sql.\n",
    "df_chal5 = pd.read_sql(query_chal5, conn)\n",
    "\n",
    "print(\"Challenge 5\")\n",
    "print(df_chal5)"
   ]
  },
  {
   "cell_type": "code",
   "execution_count": null,
   "metadata": {},
   "outputs": [],
   "source": [
    "query_chal6 = \"\"\"\n",
    "        \n",
    "              \"\"\"\n",
    "\n",
    "# Execute the query using pd.read_sql.\n",
    "df_chal6 = pd.read_sql(query_chal6, conn)\n",
    "\n",
    "print(\"Challenge 6\")\n",
    "print(df_chal6)"
   ]
  },
  {
   "cell_type": "markdown",
   "metadata": {},
   "source": [
    "## Close the connection to the database.\n",
    "Always close the connection when you're done to free up resources."
   ]
  },
  {
   "cell_type": "code",
   "execution_count": null,
   "metadata": {},
   "outputs": [],
   "source": [
    "# Close the connection\n",
    "conn.close()"
   ]
  }
 ],
 "metadata": {
  "kernelspec": {
   "display_name": "base",
   "language": "python",
   "name": "python3"
  },
  "language_info": {
   "codemirror_mode": {
    "name": "ipython",
    "version": 3
   },
   "file_extension": ".py",
   "mimetype": "text/x-python",
   "name": "python",
   "nbconvert_exporter": "python",
   "pygments_lexer": "ipython3",
   "version": "3.11.7"
  }
 },
 "nbformat": 4,
 "nbformat_minor": 2
}
