{
  "cells": [
    {
      "cell_type": "markdown",
      "metadata": {
        "id": "RdoTAcVjo1Jo"
      },
      "source": [
        "# Introduction to Testing in Python\n",
        "\n",
        "## Why Test Code?\n",
        "- Testing ensures your code behaves as expected.\n",
        "- It helps you catch errors early, saving time in debugging.\n",
        "- Good testing improves code quality and makes collaboration easier.\n",
        "\n",
        "## Types of Tests\n",
        "- **Unit Tests**: Test individual functions or methods.\n",
        "- **Integration Tests**: Test how components work together.\n",
        "- **End-to-End Tests**: Simulate user interactions in a full application.\n",
        "\n",
        "## What Will You Learn Today?\n",
        "1. How to write and run tests using Python’s `pytest`.\n",
        "2. How to handle edge cases through testing.\n",
        "3. How to collaborate to design and implement new tests.\n",
        "\n",
        "Let's start by writing a small program and testing it."
      ]
    },
    {
      "cell_type": "code",
      "execution_count": 1,
      "metadata": {
        "id": "1EA-VLIHo-d8"
      },
      "outputs": [],
      "source": [
        "# Starter Code: DataAnalyzer Class\n",
        "import statistics\n",
        "\n",
        "class DataAnalyzer:\n",
        "    def __init__(self, data):\n",
        "        \"\"\"\n",
        "        Initializes the DataAnalyzer with a list of numeric values.\n",
        "        \"\"\"\n",
        "        self.data = data\n",
        "\n",
        "    def mean(self):\n",
        "        \"\"\"Calculates the mean of the numeric data.\"\"\"\n",
        "        return statistics.mean(self.data)"
      ]
    },
    {
      "cell_type": "code",
      "execution_count": null,
      "metadata": {
        "colab": {
          "base_uri": "https://localhost:8080/"
        },
        "id": "rpNoUKQzUDBN",
        "outputId": "80c126dd-811b-4fb5-ab18-223e449d4dd1"
      },
      "outputs": [],
      "source": []
    },
    {
      "cell_type": "markdown",
      "metadata": {
        "id": "hFz9OjkfpE5a"
      },
      "source": [
        "## Writing Your First Test\n",
        "\n",
        "Testing in Python often uses the `pytest` library. Let's write our first test for the `mean` method in the `DataAnalyzer` class.\n",
        "\n",
        "- **Arrange**: Set up the input data.\n",
        "- **Act**: Call the function you want to test.\n",
        "- **Assert**: Verify that the result matches your expectations."
      ]
    },
    {
      "cell_type": "code",
      "execution_count": 6,
      "metadata": {
        "id": "BS9Gzxv6pDje"
      },
      "outputs": [],
      "source": [
        "# First Test: test_mean\n",
        "def test_mean(data_list, mean_value):\n",
        "    analyzer = DataAnalyzer(data_list)\n",
        "    assert analyzer.mean() == mean_value"
      ]
    },
    {
      "cell_type": "code",
      "execution_count": 8,
      "metadata": {
        "colab": {
          "base_uri": "https://localhost:8080/"
        },
        "id": "FPIyDQ6RpK_B",
        "outputId": "1051ed69-391a-439f-d1b6-a9efcb9e202c"
      },
      "outputs": [
        {
          "name": "stdout",
          "output_type": "stream",
          "text": [
            "test_mean failed\n"
          ]
        }
      ],
      "source": [
        "# Run the test\n",
        "# try-except clause\n",
        "try:\n",
        "    test_mean([85, 90, 95], 91)\n",
        "    print(\"test_mean passed successfully!\")\n",
        "except AssertionError:\n",
        "    print(\"test_mean failed\")"
      ]
    },
    {
      "cell_type": "markdown",
      "metadata": {
        "id": "96YeUygspXc_"
      },
      "source": [
        "## Adding `median` and `mode` Methods\n",
        "\n",
        "Now, let's extend the `DataAnalyzer` class by adding a method to calculate the median.\n",
        "Afterward, we will write a new test for this method."
      ]
    },
    {
      "cell_type": "code",
      "execution_count": 9,
      "metadata": {
        "id": "ufJqQm7ppaWo"
      },
      "outputs": [],
      "source": [
        "# Modify DataAnalyzer: Add median method\n",
        "class DataAnalyzer:\n",
        "    def __init__(self, data):\n",
        "        self.data = data\n",
        "\n",
        "    def mean(self):\n",
        "        return round(statistics.mean(self.data), 1)\n",
        "\n",
        "    def median(self):\n",
        "        \"\"\"Calculates the median of the numeric data.\"\"\"\n",
        "        return statistics.median(self.data)\n",
        "\n",
        "\n",
        "    def mode(self):\n",
        "        \"\"\"Calculates the median of the numeric data.\"\"\"\n",
        "        return statistics.mode(self.data)\n",
        "\n",
        "\n",
        "# Create test function for median\n",
        "def test_median(data_list, median_value):\n",
        "    analyzer = DataAnalyzer(data_list)\n",
        "    assert analyzer.median() == median_value\n",
        "\n",
        "# Create test function for mode\n",
        "def test_mode(data_list, mode_value):\n",
        "    analyzer = DataAnalyzer(data_list)\n",
        "    assert analyzer.mode() == mode_value"
      ]
    },
    {
      "cell_type": "code",
      "execution_count": 19,
      "metadata": {
        "colab": {
          "base_uri": "https://localhost:8080/"
        },
        "id": "Nx4BKpj2YKQK",
        "outputId": "c6218d11-0cbf-4038-90af-485808295491"
      },
      "outputs": [
        {
          "name": "stdout",
          "output_type": "stream",
          "text": [
            "test failed\n"
          ]
        }
      ],
      "source": [
        "# Run test functions\n",
        "try:\n",
        "    test_mode([85,85,\"jk\"], 85)\n",
        "    test_median([85, 85, 95], 88)\n",
        "    print(\"test succeeded\")\n",
        "except AssertionError:\n",
        "    print(\"test failed\")"
      ]
    },
    {
      "cell_type": "code",
      "execution_count": 21,
      "metadata": {
        "colab": {
          "base_uri": "https://localhost:8080/",
          "height": 287
        },
        "id": "RhMiY4uIZWXL",
        "outputId": "9aa0efab-169e-4a69-87d2-61852242b65f"
      },
      "outputs": [
        {
          "ename": "StatisticsError",
          "evalue": "mean requires at least one data point",
          "output_type": "error",
          "traceback": [
            "\u001b[0;31m---------------------------------------------------------------------------\u001b[0m",
            "\u001b[0;31mStatisticsError\u001b[0m                           Traceback (most recent call last)",
            "\u001b[0;32m<ipython-input-21-ebca267816c1>\u001b[0m in \u001b[0;36m<cell line: 0>\u001b[0;34m()\u001b[0m\n\u001b[0;32m----> 1\u001b[0;31m \u001b[0mDataAnalyzer\u001b[0m\u001b[0;34m(\u001b[0m\u001b[0;34m[\u001b[0m\u001b[0;34m]\u001b[0m\u001b[0;34m)\u001b[0m\u001b[0;34m.\u001b[0m\u001b[0mmean\u001b[0m\u001b[0;34m(\u001b[0m\u001b[0;34m)\u001b[0m\u001b[0;34m\u001b[0m\u001b[0;34m\u001b[0m\u001b[0m\n\u001b[0m",
            "\u001b[0;32m<ipython-input-9-6626387f8fcd>\u001b[0m in \u001b[0;36mmean\u001b[0;34m(self)\u001b[0m\n\u001b[1;32m      5\u001b[0m \u001b[0;34m\u001b[0m\u001b[0m\n\u001b[1;32m      6\u001b[0m     \u001b[0;32mdef\u001b[0m \u001b[0mmean\u001b[0m\u001b[0;34m(\u001b[0m\u001b[0mself\u001b[0m\u001b[0;34m)\u001b[0m\u001b[0;34m:\u001b[0m\u001b[0;34m\u001b[0m\u001b[0;34m\u001b[0m\u001b[0m\n\u001b[0;32m----> 7\u001b[0;31m         \u001b[0;32mreturn\u001b[0m \u001b[0mround\u001b[0m\u001b[0;34m(\u001b[0m\u001b[0mstatistics\u001b[0m\u001b[0;34m.\u001b[0m\u001b[0mmean\u001b[0m\u001b[0;34m(\u001b[0m\u001b[0mself\u001b[0m\u001b[0;34m.\u001b[0m\u001b[0mdata\u001b[0m\u001b[0;34m)\u001b[0m\u001b[0;34m,\u001b[0m \u001b[0;36m1\u001b[0m\u001b[0;34m)\u001b[0m\u001b[0;34m\u001b[0m\u001b[0;34m\u001b[0m\u001b[0m\n\u001b[0m\u001b[1;32m      8\u001b[0m \u001b[0;34m\u001b[0m\u001b[0m\n\u001b[1;32m      9\u001b[0m     \u001b[0;32mdef\u001b[0m \u001b[0mmedian\u001b[0m\u001b[0;34m(\u001b[0m\u001b[0mself\u001b[0m\u001b[0;34m)\u001b[0m\u001b[0;34m:\u001b[0m\u001b[0;34m\u001b[0m\u001b[0;34m\u001b[0m\u001b[0m\n",
            "\u001b[0;32m/usr/lib/python3.11/statistics.py\u001b[0m in \u001b[0;36mmean\u001b[0;34m(data)\u001b[0m\n\u001b[1;32m    430\u001b[0m     \u001b[0mT\u001b[0m\u001b[0;34m,\u001b[0m \u001b[0mtotal\u001b[0m\u001b[0;34m,\u001b[0m \u001b[0mn\u001b[0m \u001b[0;34m=\u001b[0m \u001b[0m_sum\u001b[0m\u001b[0;34m(\u001b[0m\u001b[0mdata\u001b[0m\u001b[0;34m)\u001b[0m\u001b[0;34m\u001b[0m\u001b[0;34m\u001b[0m\u001b[0m\n\u001b[1;32m    431\u001b[0m     \u001b[0;32mif\u001b[0m \u001b[0mn\u001b[0m \u001b[0;34m<\u001b[0m \u001b[0;36m1\u001b[0m\u001b[0;34m:\u001b[0m\u001b[0;34m\u001b[0m\u001b[0;34m\u001b[0m\u001b[0m\n\u001b[0;32m--> 432\u001b[0;31m         \u001b[0;32mraise\u001b[0m \u001b[0mStatisticsError\u001b[0m\u001b[0;34m(\u001b[0m\u001b[0;34m'mean requires at least one data point'\u001b[0m\u001b[0;34m)\u001b[0m\u001b[0;34m\u001b[0m\u001b[0;34m\u001b[0m\u001b[0m\n\u001b[0m\u001b[1;32m    433\u001b[0m     \u001b[0;32mreturn\u001b[0m \u001b[0m_convert\u001b[0m\u001b[0;34m(\u001b[0m\u001b[0mtotal\u001b[0m \u001b[0;34m/\u001b[0m \u001b[0mn\u001b[0m\u001b[0;34m,\u001b[0m \u001b[0mT\u001b[0m\u001b[0;34m)\u001b[0m\u001b[0;34m\u001b[0m\u001b[0;34m\u001b[0m\u001b[0m\n\u001b[1;32m    434\u001b[0m \u001b[0;34m\u001b[0m\u001b[0m\n",
            "\u001b[0;31mStatisticsError\u001b[0m: mean requires at least one data point"
          ]
        }
      ],
      "source": [
        "DataAnalyzer([]).mean()"
      ]
    },
    {
      "cell_type": "markdown",
      "metadata": {
        "id": "HO7wAQRMsZMy"
      },
      "source": [
        "## Investigating Edge Cases\n",
        "\n",
        "What happens if:\n",
        "1. The list of numbers is empty?\n",
        "2. The list contains non-numeric data?\n",
        "\n",
        "Let's write two new test functions to handle these scenarios:\n",
        "- **test_empty_list**\n",
        "- **test_non_numeric_data**"
      ]
    },
    {
      "cell_type": "code",
      "execution_count": 22,
      "metadata": {
        "colab": {
          "base_uri": "https://localhost:8080/",
          "height": 321
        },
        "id": "PmlAAe3N9cdk",
        "outputId": "81de8914-6839-45e0-b693-0ef9a2f801a9"
      },
      "outputs": [
        {
          "ename": "StatisticsError",
          "evalue": "mean requires at least one data point",
          "output_type": "error",
          "traceback": [
            "\u001b[0;31m---------------------------------------------------------------------------\u001b[0m",
            "\u001b[0;31mStatisticsError\u001b[0m                           Traceback (most recent call last)",
            "\u001b[0;32m<ipython-input-22-3e4442459352>\u001b[0m in \u001b[0;36m<cell line: 0>\u001b[0;34m()\u001b[0m\n\u001b[1;32m      1\u001b[0m \u001b[0mempty_list\u001b[0m \u001b[0;34m=\u001b[0m \u001b[0;34m[\u001b[0m\u001b[0;34m]\u001b[0m\u001b[0;34m\u001b[0m\u001b[0;34m\u001b[0m\u001b[0m\n\u001b[0;32m----> 2\u001b[0;31m \u001b[0mDataAnalyzer\u001b[0m\u001b[0;34m(\u001b[0m\u001b[0mempty_list\u001b[0m\u001b[0;34m)\u001b[0m\u001b[0;34m.\u001b[0m\u001b[0mmean\u001b[0m\u001b[0;34m(\u001b[0m\u001b[0;34m)\u001b[0m \u001b[0;31m# Trying to run an empty list leads to a StatisticsError\u001b[0m\u001b[0;34m\u001b[0m\u001b[0;34m\u001b[0m\u001b[0m\n\u001b[0m",
            "\u001b[0;32m<ipython-input-9-6626387f8fcd>\u001b[0m in \u001b[0;36mmean\u001b[0;34m(self)\u001b[0m\n\u001b[1;32m      5\u001b[0m \u001b[0;34m\u001b[0m\u001b[0m\n\u001b[1;32m      6\u001b[0m     \u001b[0;32mdef\u001b[0m \u001b[0mmean\u001b[0m\u001b[0;34m(\u001b[0m\u001b[0mself\u001b[0m\u001b[0;34m)\u001b[0m\u001b[0;34m:\u001b[0m\u001b[0;34m\u001b[0m\u001b[0;34m\u001b[0m\u001b[0m\n\u001b[0;32m----> 7\u001b[0;31m         \u001b[0;32mreturn\u001b[0m \u001b[0mround\u001b[0m\u001b[0;34m(\u001b[0m\u001b[0mstatistics\u001b[0m\u001b[0;34m.\u001b[0m\u001b[0mmean\u001b[0m\u001b[0;34m(\u001b[0m\u001b[0mself\u001b[0m\u001b[0;34m.\u001b[0m\u001b[0mdata\u001b[0m\u001b[0;34m)\u001b[0m\u001b[0;34m,\u001b[0m \u001b[0;36m1\u001b[0m\u001b[0;34m)\u001b[0m\u001b[0;34m\u001b[0m\u001b[0;34m\u001b[0m\u001b[0m\n\u001b[0m\u001b[1;32m      8\u001b[0m \u001b[0;34m\u001b[0m\u001b[0m\n\u001b[1;32m      9\u001b[0m     \u001b[0;32mdef\u001b[0m \u001b[0mmedian\u001b[0m\u001b[0;34m(\u001b[0m\u001b[0mself\u001b[0m\u001b[0;34m)\u001b[0m\u001b[0;34m:\u001b[0m\u001b[0;34m\u001b[0m\u001b[0;34m\u001b[0m\u001b[0m\n",
            "\u001b[0;32m/usr/lib/python3.11/statistics.py\u001b[0m in \u001b[0;36mmean\u001b[0;34m(data)\u001b[0m\n\u001b[1;32m    430\u001b[0m     \u001b[0mT\u001b[0m\u001b[0;34m,\u001b[0m \u001b[0mtotal\u001b[0m\u001b[0;34m,\u001b[0m \u001b[0mn\u001b[0m \u001b[0;34m=\u001b[0m \u001b[0m_sum\u001b[0m\u001b[0;34m(\u001b[0m\u001b[0mdata\u001b[0m\u001b[0;34m)\u001b[0m\u001b[0;34m\u001b[0m\u001b[0;34m\u001b[0m\u001b[0m\n\u001b[1;32m    431\u001b[0m     \u001b[0;32mif\u001b[0m \u001b[0mn\u001b[0m \u001b[0;34m<\u001b[0m \u001b[0;36m1\u001b[0m\u001b[0;34m:\u001b[0m\u001b[0;34m\u001b[0m\u001b[0;34m\u001b[0m\u001b[0m\n\u001b[0;32m--> 432\u001b[0;31m         \u001b[0;32mraise\u001b[0m \u001b[0mStatisticsError\u001b[0m\u001b[0;34m(\u001b[0m\u001b[0;34m'mean requires at least one data point'\u001b[0m\u001b[0;34m)\u001b[0m\u001b[0;34m\u001b[0m\u001b[0;34m\u001b[0m\u001b[0m\n\u001b[0m\u001b[1;32m    433\u001b[0m     \u001b[0;32mreturn\u001b[0m \u001b[0m_convert\u001b[0m\u001b[0;34m(\u001b[0m\u001b[0mtotal\u001b[0m \u001b[0;34m/\u001b[0m \u001b[0mn\u001b[0m\u001b[0;34m,\u001b[0m \u001b[0mT\u001b[0m\u001b[0;34m)\u001b[0m\u001b[0;34m\u001b[0m\u001b[0;34m\u001b[0m\u001b[0m\n\u001b[1;32m    434\u001b[0m \u001b[0;34m\u001b[0m\u001b[0m\n",
            "\u001b[0;31mStatisticsError\u001b[0m: mean requires at least one data point"
          ]
        }
      ],
      "source": [
        "empty_list = []\n",
        "DataAnalyzer(empty_list).mean() # Trying to run an empty list leads to a StatisticsError"
      ]
    },
    {
      "cell_type": "code",
      "execution_count": 23,
      "metadata": {
        "colab": {
          "base_uri": "https://localhost:8080/",
          "height": 408
        },
        "id": "TiHrGzMf9rAK",
        "outputId": "4ab018f0-4a05-4707-c893-c080ae92859e"
      },
      "outputs": [
        {
          "ename": "TypeError",
          "evalue": "can't convert type 'str' to numerator/denominator",
          "output_type": "error",
          "traceback": [
            "\u001b[0;31m---------------------------------------------------------------------------\u001b[0m",
            "\u001b[0;31mAttributeError\u001b[0m                            Traceback (most recent call last)",
            "\u001b[0;32m/usr/lib/python3.11/statistics.py\u001b[0m in \u001b[0;36m_exact_ratio\u001b[0;34m(x)\u001b[0m\n\u001b[1;32m    326\u001b[0m         \u001b[0;31m# x may be an Integral ABC.\u001b[0m\u001b[0;34m\u001b[0m\u001b[0;34m\u001b[0m\u001b[0m\n\u001b[0;32m--> 327\u001b[0;31m         \u001b[0;32mreturn\u001b[0m \u001b[0;34m(\u001b[0m\u001b[0mx\u001b[0m\u001b[0;34m.\u001b[0m\u001b[0mnumerator\u001b[0m\u001b[0;34m,\u001b[0m \u001b[0mx\u001b[0m\u001b[0;34m.\u001b[0m\u001b[0mdenominator\u001b[0m\u001b[0;34m)\u001b[0m\u001b[0;34m\u001b[0m\u001b[0;34m\u001b[0m\u001b[0m\n\u001b[0m\u001b[1;32m    328\u001b[0m     \u001b[0;32mexcept\u001b[0m \u001b[0mAttributeError\u001b[0m\u001b[0;34m:\u001b[0m\u001b[0;34m\u001b[0m\u001b[0;34m\u001b[0m\u001b[0m\n",
            "\u001b[0;31mAttributeError\u001b[0m: 'str' object has no attribute 'numerator'",
            "\nDuring handling of the above exception, another exception occurred:\n",
            "\u001b[0;31mTypeError\u001b[0m                                 Traceback (most recent call last)",
            "\u001b[0;32m<ipython-input-23-1bb981986cf4>\u001b[0m in \u001b[0;36m<cell line: 0>\u001b[0;34m()\u001b[0m\n\u001b[1;32m      1\u001b[0m \u001b[0mnon_num_list\u001b[0m \u001b[0;34m=\u001b[0m \u001b[0;34m[\u001b[0m\u001b[0;34m\"a\"\u001b[0m\u001b[0;34m,\u001b[0m \u001b[0;34m\"b\"\u001b[0m\u001b[0;34m,\u001b[0m \u001b[0;34m\"c\"\u001b[0m\u001b[0;34m]\u001b[0m\u001b[0;34m\u001b[0m\u001b[0;34m\u001b[0m\u001b[0m\n\u001b[0;32m----> 2\u001b[0;31m \u001b[0mDataAnalyzer\u001b[0m\u001b[0;34m(\u001b[0m\u001b[0mnon_num_list\u001b[0m\u001b[0;34m)\u001b[0m\u001b[0;34m.\u001b[0m\u001b[0mmean\u001b[0m\u001b[0;34m(\u001b[0m\u001b[0;34m)\u001b[0m \u001b[0;31m# Trying to run an empty list leads to a TypeError\u001b[0m\u001b[0;34m\u001b[0m\u001b[0;34m\u001b[0m\u001b[0m\n\u001b[0m",
            "\u001b[0;32m<ipython-input-9-6626387f8fcd>\u001b[0m in \u001b[0;36mmean\u001b[0;34m(self)\u001b[0m\n\u001b[1;32m      5\u001b[0m \u001b[0;34m\u001b[0m\u001b[0m\n\u001b[1;32m      6\u001b[0m     \u001b[0;32mdef\u001b[0m \u001b[0mmean\u001b[0m\u001b[0;34m(\u001b[0m\u001b[0mself\u001b[0m\u001b[0;34m)\u001b[0m\u001b[0;34m:\u001b[0m\u001b[0;34m\u001b[0m\u001b[0;34m\u001b[0m\u001b[0m\n\u001b[0;32m----> 7\u001b[0;31m         \u001b[0;32mreturn\u001b[0m \u001b[0mround\u001b[0m\u001b[0;34m(\u001b[0m\u001b[0mstatistics\u001b[0m\u001b[0;34m.\u001b[0m\u001b[0mmean\u001b[0m\u001b[0;34m(\u001b[0m\u001b[0mself\u001b[0m\u001b[0;34m.\u001b[0m\u001b[0mdata\u001b[0m\u001b[0;34m)\u001b[0m\u001b[0;34m,\u001b[0m \u001b[0;36m1\u001b[0m\u001b[0;34m)\u001b[0m\u001b[0;34m\u001b[0m\u001b[0;34m\u001b[0m\u001b[0m\n\u001b[0m\u001b[1;32m      8\u001b[0m \u001b[0;34m\u001b[0m\u001b[0m\n\u001b[1;32m      9\u001b[0m     \u001b[0;32mdef\u001b[0m \u001b[0mmedian\u001b[0m\u001b[0;34m(\u001b[0m\u001b[0mself\u001b[0m\u001b[0;34m)\u001b[0m\u001b[0;34m:\u001b[0m\u001b[0;34m\u001b[0m\u001b[0;34m\u001b[0m\u001b[0m\n",
            "\u001b[0;32m/usr/lib/python3.11/statistics.py\u001b[0m in \u001b[0;36mmean\u001b[0;34m(data)\u001b[0m\n\u001b[1;32m    428\u001b[0m     \u001b[0mIf\u001b[0m\u001b[0;31m \u001b[0m\u001b[0;31m`\u001b[0m\u001b[0;31m`\u001b[0m\u001b[0mdata\u001b[0m\u001b[0;31m`\u001b[0m\u001b[0;31m`\u001b[0m \u001b[0;32mis\u001b[0m \u001b[0mempty\u001b[0m\u001b[0;34m,\u001b[0m \u001b[0mStatisticsError\u001b[0m \u001b[0mwill\u001b[0m \u001b[0mbe\u001b[0m \u001b[0mraised\u001b[0m\u001b[0;34m.\u001b[0m\u001b[0;34m\u001b[0m\u001b[0;34m\u001b[0m\u001b[0m\n\u001b[1;32m    429\u001b[0m     \"\"\"\n\u001b[0;32m--> 430\u001b[0;31m     \u001b[0mT\u001b[0m\u001b[0;34m,\u001b[0m \u001b[0mtotal\u001b[0m\u001b[0;34m,\u001b[0m \u001b[0mn\u001b[0m \u001b[0;34m=\u001b[0m \u001b[0m_sum\u001b[0m\u001b[0;34m(\u001b[0m\u001b[0mdata\u001b[0m\u001b[0;34m)\u001b[0m\u001b[0;34m\u001b[0m\u001b[0;34m\u001b[0m\u001b[0m\n\u001b[0m\u001b[1;32m    431\u001b[0m     \u001b[0;32mif\u001b[0m \u001b[0mn\u001b[0m \u001b[0;34m<\u001b[0m \u001b[0;36m1\u001b[0m\u001b[0;34m:\u001b[0m\u001b[0;34m\u001b[0m\u001b[0;34m\u001b[0m\u001b[0m\n\u001b[1;32m    432\u001b[0m         \u001b[0;32mraise\u001b[0m \u001b[0mStatisticsError\u001b[0m\u001b[0;34m(\u001b[0m\u001b[0;34m'mean requires at least one data point'\u001b[0m\u001b[0;34m)\u001b[0m\u001b[0;34m\u001b[0m\u001b[0;34m\u001b[0m\u001b[0m\n",
            "\u001b[0;32m/usr/lib/python3.11/statistics.py\u001b[0m in \u001b[0;36m_sum\u001b[0;34m(data)\u001b[0m\n\u001b[1;32m    191\u001b[0m     \u001b[0;32mfor\u001b[0m \u001b[0mtyp\u001b[0m\u001b[0;34m,\u001b[0m \u001b[0mvalues\u001b[0m \u001b[0;32min\u001b[0m \u001b[0mgroupby\u001b[0m\u001b[0;34m(\u001b[0m\u001b[0mdata\u001b[0m\u001b[0;34m,\u001b[0m \u001b[0mtype\u001b[0m\u001b[0;34m)\u001b[0m\u001b[0;34m:\u001b[0m\u001b[0;34m\u001b[0m\u001b[0;34m\u001b[0m\u001b[0m\n\u001b[1;32m    192\u001b[0m         \u001b[0mtypes_add\u001b[0m\u001b[0;34m(\u001b[0m\u001b[0mtyp\u001b[0m\u001b[0;34m)\u001b[0m\u001b[0;34m\u001b[0m\u001b[0;34m\u001b[0m\u001b[0m\n\u001b[0;32m--> 193\u001b[0;31m         \u001b[0;32mfor\u001b[0m \u001b[0mn\u001b[0m\u001b[0;34m,\u001b[0m \u001b[0md\u001b[0m \u001b[0;32min\u001b[0m \u001b[0mmap\u001b[0m\u001b[0;34m(\u001b[0m\u001b[0m_exact_ratio\u001b[0m\u001b[0;34m,\u001b[0m \u001b[0mvalues\u001b[0m\u001b[0;34m)\u001b[0m\u001b[0;34m:\u001b[0m\u001b[0;34m\u001b[0m\u001b[0;34m\u001b[0m\u001b[0m\n\u001b[0m\u001b[1;32m    194\u001b[0m             \u001b[0mcount\u001b[0m \u001b[0;34m+=\u001b[0m \u001b[0;36m1\u001b[0m\u001b[0;34m\u001b[0m\u001b[0;34m\u001b[0m\u001b[0m\n\u001b[1;32m    195\u001b[0m             \u001b[0mpartials\u001b[0m\u001b[0;34m[\u001b[0m\u001b[0md\u001b[0m\u001b[0;34m]\u001b[0m \u001b[0;34m=\u001b[0m \u001b[0mpartials_get\u001b[0m\u001b[0;34m(\u001b[0m\u001b[0md\u001b[0m\u001b[0;34m,\u001b[0m \u001b[0;36m0\u001b[0m\u001b[0;34m)\u001b[0m \u001b[0;34m+\u001b[0m \u001b[0mn\u001b[0m\u001b[0;34m\u001b[0m\u001b[0;34m\u001b[0m\u001b[0m\n",
            "\u001b[0;32m/usr/lib/python3.11/statistics.py\u001b[0m in \u001b[0;36m_exact_ratio\u001b[0;34m(x)\u001b[0m\n\u001b[1;32m    328\u001b[0m     \u001b[0;32mexcept\u001b[0m \u001b[0mAttributeError\u001b[0m\u001b[0;34m:\u001b[0m\u001b[0;34m\u001b[0m\u001b[0;34m\u001b[0m\u001b[0m\n\u001b[1;32m    329\u001b[0m         \u001b[0mmsg\u001b[0m \u001b[0;34m=\u001b[0m \u001b[0;34mf\"can't convert type '{type(x).__name__}' to numerator/denominator\"\u001b[0m\u001b[0;34m\u001b[0m\u001b[0;34m\u001b[0m\u001b[0m\n\u001b[0;32m--> 330\u001b[0;31m         \u001b[0;32mraise\u001b[0m \u001b[0mTypeError\u001b[0m\u001b[0;34m(\u001b[0m\u001b[0mmsg\u001b[0m\u001b[0;34m)\u001b[0m\u001b[0;34m\u001b[0m\u001b[0;34m\u001b[0m\u001b[0m\n\u001b[0m\u001b[1;32m    331\u001b[0m \u001b[0;34m\u001b[0m\u001b[0m\n\u001b[1;32m    332\u001b[0m \u001b[0;34m\u001b[0m\u001b[0m\n",
            "\u001b[0;31mTypeError\u001b[0m: can't convert type 'str' to numerator/denominator"
          ]
        }
      ],
      "source": [
        "non_num_list = [\"a\", \"b\", \"c\"]\n",
        "DataAnalyzer(non_num_list).mean() # Trying to run an empty list leads to a TypeError"
      ]
    },
    {
      "cell_type": "markdown",
      "metadata": {
        "id": "_Aew4Wgg2dih"
      },
      "source": [
        "#### `test_empty_list`\n",
        "- **Purpose**: Ensures the `mean` method raises an error when called with an empty list.\n",
        "- **Key Points**:\n",
        "  - An empty list cannot have a mean, so the method should raise an error.\n",
        "  - Uses `pytest.raises` to check for `statistics.StatisticsError`."
      ]
    },
    {
      "cell_type": "code",
      "execution_count": 24,
      "metadata": {
        "id": "CJ4SgG-Mc4nH"
      },
      "outputs": [],
      "source": [
        "import pytest\n",
        "\n",
        "def test_empty_list(data_list):\n",
        "    analyzer = DataAnalyzer(data_list)\n",
        "    with pytest.raises(statistics.StatisticsError):\n",
        "        analyzer.mean()"
      ]
    },
    {
      "cell_type": "code",
      "execution_count": 27,
      "metadata": {
        "colab": {
          "base_uri": "https://localhost:8080/"
        },
        "id": "KxQYfuFKaXFt",
        "outputId": "23280a76-f3e2-432b-d3b4-e551d9eda18d"
      },
      "outputs": [
        {
          "name": "stdout",
          "output_type": "stream",
          "text": [
            "test succeeded\n"
          ]
        }
      ],
      "source": [
        "try:\n",
        "    test_empty_list([])\n",
        "    print(\"test succeeded\")\n",
        "except AssertionError:\n",
        "    print(\"test failed\")"
      ]
    },
    {
      "cell_type": "markdown",
      "metadata": {
        "id": "wboyIUd-2xpi"
      },
      "source": [
        "#### `test_non_numeric_data`\n",
        "- **Purpose**: Verifies that the `mean` method raises a `TypeError` when non-numeric data is provided.\n",
        "- **Key Points**:\n",
        "  - The `sum` function cannot handle non-numeric values.\n",
        "  - This test ensures invalid input is handled explicitly."
      ]
    },
    {
      "cell_type": "code",
      "execution_count": 28,
      "metadata": {
        "id": "dV_fR92H2yb6"
      },
      "outputs": [],
      "source": [
        "def test_non_numeric_data(data_list):\n",
        "    analyzer = DataAnalyzer(data_list)\n",
        "    with pytest.raises(TypeError):\n",
        "        analyzer.mean()"
      ]
    },
    {
      "cell_type": "code",
      "execution_count": 30,
      "metadata": {
        "colab": {
          "base_uri": "https://localhost:8080/"
        },
        "id": "p644B4AQa5Zt",
        "outputId": "407f4301-3029-4294-f29d-fb96cf1fa453"
      },
      "outputs": [
        {
          "name": "stdout",
          "output_type": "stream",
          "text": [
            "test succeeded\n"
          ]
        }
      ],
      "source": [
        "try:\n",
        "    test_non_numeric_data([\"a\",\"b\"])\n",
        "    print(\"test succeeded\")\n",
        "except AssertionError:\n",
        "    print(\"test failed\")"
      ]
    },
    {
      "cell_type": "markdown",
      "metadata": {
        "id": "5iB8Mz2i3Dp_"
      },
      "source": [
        "## Final Challenge Instructions: Rewriting the DataAnalyzer Class\n",
        "For the final challenge, you will modify the `DataAnalyzer` class to calculate the mean, median, and mode manually without using any functions from the statistics library.\n",
        "\n",
        "**Instructions**\n",
        "1. Re-Write the `mean` Method\n",
        "    * Manually calculate the mean using a `for loop` to sum the values in the list.\n",
        "    * Avoid using the `sum` function.\n",
        "    * Round to 1 decimal\n",
        "\n",
        "2. Re-Write the median Method\n",
        "    * Manually calculate the median by:\n",
        "        * Sorting the list.\n",
        "        * Finding the middle value if the list has an odd number of elements.\n",
        "        * Averaging the two middle values if the list has an even number of elements.\n",
        "\n",
        "3. Re-Write the mode Method\n",
        "    * Manually calculate the mode by:\n",
        "        * Counting the frequency of each number in the list using a dictionary.\n",
        "        * Identifying the number with the highest frequency.\n",
        "\n",
        "4. Test Your Implementation\n",
        "    * Use the provided test functions (test_mean, test_median, test_mode) to verify your manual implementations work correctly.\n",
        "    * Run your tests using pytest or manually in the notebook."
      ]
    },
    {
      "cell_type": "code",
      "execution_count": null,
      "metadata": {
        "id": "_J-NcaPpFsi5"
      },
      "outputs": [],
      "source": [
        "class DataAnalyzer:\n",
        "    def __init__(self, data):\n",
        "        \"\"\"\n",
        "        Initializes the DataAnalyzer with a list of numeric values.\n",
        "        \"\"\"\n",
        "\n",
        "\n",
        "    def mean(self):\n",
        "        \"\"\"Manually calculates the mean of the numeric data.\"\"\"\n",
        "\n",
        "\n",
        "    def median(self):\n",
        "        \"\"\"Manually calculates the median of the numeric data.\"\"\"\n",
        "\n",
        "\n",
        "    def mode(self):\n",
        "        \"\"\"Manually calculates the mode of the numeric data.\"\"\"\n",
        "\n"
      ]
    },
    {
      "cell_type": "code",
      "execution_count": null,
      "metadata": {
        "id": "HCIZsAh532ls"
      },
      "outputs": [],
      "source": [
        "# First Test: test_mean\n",
        "def test_mean(data_list, mean_value):\n",
        "\n",
        "\n",
        "# Create test function for median\n",
        "def test_median(data_list, median_value):\n",
        "\n",
        "\n",
        "# Create test function for mode\n",
        "def test_mode(data_list, mode_value):\n",
        "\n",
        "\n",
        "# Run test functions\n"
      ]
    }
  ],
  "metadata": {
    "colab": {
      "provenance": []
    },
    "kernelspec": {
      "display_name": "Python 3",
      "name": "python3"
    },
    "language_info": {
      "codemirror_mode": {
        "name": "ipython",
        "version": 3
      },
      "file_extension": ".py",
      "mimetype": "text/x-python",
      "name": "python",
      "nbconvert_exporter": "python",
      "pygments_lexer": "ipython3",
      "version": "3.12.3"
    }
  },
  "nbformat": 4,
  "nbformat_minor": 0
}
